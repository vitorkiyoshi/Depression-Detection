{
  "cells": [
    {
      "cell_type": "markdown",
      "metadata": {},
      "source": [
        "# Dataset Creation"
      ]
    },
    {
      "cell_type": "code",
      "execution_count": null,
      "metadata": {},
      "outputs": [],
      "source": [
        "from wordcloud import WordCloud, STOPWORDS\n",
        "import matplotlib.pyplot as plt\n",
        "import pandas as pd\n",
        "import warnings\n",
        "#normalização de sentenças\n",
        "import nltk\n",
        "from nltk.stem import LancasterStemmer\n",
        "from nltk.tokenize import sent_tokenize, word_tokenize\n",
        "#analise de sentimentos\n",
        "from vaderSentiment.vaderSentiment import SentimentIntensityAnalyzer\n",
        "#data split\n",
        "from sklearn.model_selection import train_test_split\n",
        "from sklearn.metrics import balanced_accuracy_score, accuracy_score"
      ]
    },
    {
      "cell_type": "code",
      "execution_count": 31,
      "metadata": {},
      "outputs": [
        {
          "name": "stderr",
          "output_type": "stream",
          "text": [
            "[nltk_data] Downloading package punkt to\n",
            "[nltk_data]     C:\\Users\\vitor\\AppData\\Roaming\\nltk_data...\n",
            "[nltk_data]   Package punkt is already up-to-date!\n"
          ]
        },
        {
          "data": {
            "text/html": [
              "<div>\n",
              "<style scoped>\n",
              "    .dataframe tbody tr th:only-of-type {\n",
              "        vertical-align: middle;\n",
              "    }\n",
              "\n",
              "    .dataframe tbody tr th {\n",
              "        vertical-align: top;\n",
              "    }\n",
              "\n",
              "    .dataframe thead th {\n",
              "        text-align: right;\n",
              "    }\n",
              "</style>\n",
              "<table border=\"1\" class=\"dataframe\">\n",
              "  <thead>\n",
              "    <tr style=\"text-align: right;\">\n",
              "      <th></th>\n",
              "      <th>target</th>\n",
              "      <th>text</th>\n",
              "    </tr>\n",
              "  </thead>\n",
              "  <tbody>\n",
              "    <tr>\n",
              "      <th>0</th>\n",
              "      <td>0</td>\n",
              "      <td>@switchfoot http://twitpic.com/2y1zl - Awww, t...</td>\n",
              "    </tr>\n",
              "    <tr>\n",
              "      <th>1</th>\n",
              "      <td>0</td>\n",
              "      <td>is upset that he can't update his Facebook by ...</td>\n",
              "    </tr>\n",
              "    <tr>\n",
              "      <th>2</th>\n",
              "      <td>0</td>\n",
              "      <td>@Kenichan I dived many times for the ball. Man...</td>\n",
              "    </tr>\n",
              "    <tr>\n",
              "      <th>3</th>\n",
              "      <td>0</td>\n",
              "      <td>my whole body feels itchy and like its on fire</td>\n",
              "    </tr>\n",
              "    <tr>\n",
              "      <th>4</th>\n",
              "      <td>0</td>\n",
              "      <td>@nationwideclass no, it's not behaving at all....</td>\n",
              "    </tr>\n",
              "  </tbody>\n",
              "</table>\n",
              "</div>"
            ],
            "text/plain": [
              "   target                                               text\n",
              "0       0  @switchfoot http://twitpic.com/2y1zl - Awww, t...\n",
              "1       0  is upset that he can't update his Facebook by ...\n",
              "2       0  @Kenichan I dived many times for the ball. Man...\n",
              "3       0    my whole body feels itchy and like its on fire \n",
              "4       0  @nationwideclass no, it's not behaving at all...."
            ]
          },
          "execution_count": 31,
          "metadata": {},
          "output_type": "execute_result"
        }
      ],
      "source": [
        "nltk.download(\"punkt\")\n",
        "warnings.filterwarnings(\"ignore\")\n",
        "columns = ['target','text']\n",
        "df = pd.read_csv('training.1600000.processed.noemoticon.csv',usecols=columns,encoding=\"ISO-8859-1\") #necessitamos apenas do tweet e o message type(negative, positive, neutral\n",
        "df.head()"
      ]
    },
    {
      "cell_type": "code",
      "execution_count": 33,
      "metadata": {},
      "outputs": [
        {
          "name": "stdout",
          "output_type": "stream",
          "text": [
            "i want to suicide 0.577\n",
            "i hate storms 0.649\n"
          ]
        }
      ],
      "source": [
        "def sentiment(frase):\n",
        "  sent = SentimentIntensityAnalyzer()\n",
        "  return sent.polarity_scores(frase)\n",
        "teste = 'i want to suicide'\n",
        "print('i want to suicide',sentiment(teste)['neg'])\n",
        "teste = 'i hate storms'\n",
        "print('i hate storms',sentiment(teste)['neg'])"
      ]
    },
    {
      "cell_type": "code",
      "execution_count": 35,
      "metadata": {},
      "outputs": [
        {
          "data": {
            "text/html": [
              "<div>\n",
              "<style scoped>\n",
              "    .dataframe tbody tr th:only-of-type {\n",
              "        vertical-align: middle;\n",
              "    }\n",
              "\n",
              "    .dataframe tbody tr th {\n",
              "        vertical-align: top;\n",
              "    }\n",
              "\n",
              "    .dataframe thead th {\n",
              "        text-align: right;\n",
              "    }\n",
              "</style>\n",
              "<table border=\"1\" class=\"dataframe\">\n",
              "  <thead>\n",
              "    <tr style=\"text-align: right;\">\n",
              "      <th></th>\n",
              "      <th>target</th>\n",
              "      <th>text</th>\n",
              "    </tr>\n",
              "  </thead>\n",
              "  <tbody>\n",
              "    <tr>\n",
              "      <th>0</th>\n",
              "      <td>0</td>\n",
              "      <td>@switchfoot http://twitpic.com/2y1zl - Awww, t...</td>\n",
              "    </tr>\n",
              "    <tr>\n",
              "      <th>1</th>\n",
              "      <td>0</td>\n",
              "      <td>is upset that he can't update his Facebook by ...</td>\n",
              "    </tr>\n",
              "    <tr>\n",
              "      <th>2</th>\n",
              "      <td>0</td>\n",
              "      <td>@Kenichan I dived many times for the ball. Man...</td>\n",
              "    </tr>\n",
              "    <tr>\n",
              "      <th>3</th>\n",
              "      <td>0</td>\n",
              "      <td>my whole body feels itchy and like its on fire</td>\n",
              "    </tr>\n",
              "    <tr>\n",
              "      <th>4</th>\n",
              "      <td>0</td>\n",
              "      <td>@nationwideclass no, it's not behaving at all....</td>\n",
              "    </tr>\n",
              "  </tbody>\n",
              "</table>\n",
              "</div>"
            ],
            "text/plain": [
              "   target                                               text\n",
              "0       0  @switchfoot http://twitpic.com/2y1zl - Awww, t...\n",
              "1       0  is upset that he can't update his Facebook by ...\n",
              "2       0  @Kenichan I dived many times for the ball. Man...\n",
              "3       0    my whole body feels itchy and like its on fire \n",
              "4       0  @nationwideclass no, it's not behaving at all...."
            ]
          },
          "execution_count": 35,
          "metadata": {},
          "output_type": "execute_result"
        }
      ],
      "source": [
        "#negativos\n",
        "neg = df.loc[df['target'] == 0]\n",
        "\n",
        "#função que define wordcloud a partir de uma palavra\n",
        "def wcloud(word):\n",
        "  withdep = []\n",
        "  for i in neg.index:\n",
        "    j = neg.loc[i]['text']\n",
        "    if word in j:\n",
        "      vaderPerc = sentiment(j) \n",
        "      if vaderPerc['neg']>=0.4 : \n",
        "        withdep.append(j)\n",
        "        neg.drop(i)\n",
        "  if len(withdep)>0:\n",
        "    text = \" \".join(i for i in withdep)\n",
        "    stopwords = set(STOPWORDS)\n",
        "    wordcloud = WordCloud(stopwords=stopwords, background_color=\"black\").generate(text)\n",
        "    plt.axis(\"off\")\n",
        "    plt.imshow(wordcloud, interpolation='bilinear')\n",
        "    plt.show()\n",
        "  return len(withdep)\n",
        "\n",
        "neg.head()"
      ]
    },
    {
      "cell_type": "code",
      "execution_count": 36,
      "metadata": {},
      "outputs": [],
      "source": [
        "lancaster = LancasterStemmer()\n",
        "def stemSentence(sentence):\n",
        "    token_words = word_tokenize(sentence)\n",
        "    stem_sentence=[]\n",
        "    for word in token_words:\n",
        "        stem_sentence.append(lancaster.stem(word))\n",
        "        stem_sentence.append(\" \")\n",
        "    return \"\".join(stem_sentence)"
      ]
    },
    {
      "cell_type": "code",
      "execution_count": 37,
      "metadata": {},
      "outputs": [
        {
          "data": {
            "text/html": [
              "<div>\n",
              "<style scoped>\n",
              "    .dataframe tbody tr th:only-of-type {\n",
              "        vertical-align: middle;\n",
              "    }\n",
              "\n",
              "    .dataframe tbody tr th {\n",
              "        vertical-align: top;\n",
              "    }\n",
              "\n",
              "    .dataframe thead th {\n",
              "        text-align: right;\n",
              "    }\n",
              "</style>\n",
              "<table border=\"1\" class=\"dataframe\">\n",
              "  <thead>\n",
              "    <tr style=\"text-align: right;\">\n",
              "      <th></th>\n",
              "      <th>target</th>\n",
              "      <th>text</th>\n",
              "      <th>vader</th>\n",
              "    </tr>\n",
              "  </thead>\n",
              "  <tbody>\n",
              "    <tr>\n",
              "      <th>3</th>\n",
              "      <td>0</td>\n",
              "      <td>my whole body feels itchy and like its on fire</td>\n",
              "      <td>0.321</td>\n",
              "    </tr>\n",
              "    <tr>\n",
              "      <th>7</th>\n",
              "      <td>0</td>\n",
              "      <td>@LOLTrish hey  long time no see! Yes.. Rains a...</td>\n",
              "      <td>0.149</td>\n",
              "    </tr>\n",
              "    <tr>\n",
              "      <th>29</th>\n",
              "      <td>0</td>\n",
              "      <td>Meh... Almost Lover is the exception... this t...</td>\n",
              "      <td>0.254</td>\n",
              "    </tr>\n",
              "    <tr>\n",
              "      <th>38</th>\n",
              "      <td>0</td>\n",
              "      <td>@fleurylis I don't either. Its depressing. I d...</td>\n",
              "      <td>0.000</td>\n",
              "    </tr>\n",
              "    <tr>\n",
              "      <th>40</th>\n",
              "      <td>0</td>\n",
              "      <td>really don't feel like getting up today... but...</td>\n",
              "      <td>0.101</td>\n",
              "    </tr>\n",
              "  </tbody>\n",
              "</table>\n",
              "</div>"
            ],
            "text/plain": [
              "    target                                               text  vader\n",
              "3        0    my whole body feels itchy and like its on fire   0.321\n",
              "7        0  @LOLTrish hey  long time no see! Yes.. Rains a...  0.149\n",
              "29       0  Meh... Almost Lover is the exception... this t...  0.254\n",
              "38       0  @fleurylis I don't either. Its depressing. I d...  0.000\n",
              "40       0  really don't feel like getting up today... but...  0.101"
            ]
          },
          "execution_count": 37,
          "metadata": {},
          "output_type": "execute_result"
        }
      ],
      "source": [
        "words = ['depression','feeling','lonely','suicide','killing myself']\n",
        "for i in range(len(words)):\n",
        "    words[i] = lancaster.stem(words[i])\n",
        "#ATRIBUINDO VADER COMO COLUNA\n",
        "withwords = pd.DataFrame()\n",
        "string = '|'.join(words)\n",
        "withwords = neg.loc[neg['text'].str.contains(string)]\n",
        "#dessas que contem palavras, criar vaderscore\n",
        "vader = [sentiment(i)['neg'] for i in withwords['text']]\n",
        "withwords['vader'] = vader\n",
        "withwords.head()"
      ]
    },
    {
      "cell_type": "code",
      "execution_count": null,
      "metadata": {},
      "outputs": [],
      "source": [
        "for i in words:\n",
        "    wcloud(i)"
      ]
    },
    {
      "cell_type": "code",
      "execution_count": 38,
      "metadata": {},
      "outputs": [],
      "source": [
        "depressive = []\n",
        "for i in withwords.index:\n",
        "    if withwords['vader'][i] > 0.4:\n",
        "        depressive.append(withwords['text'][i])\n",
        "target = [1 for i in depressive]\n",
        "#dp: dataframe with all depressive tweets\n",
        "dp = pd.DataFrame()\n",
        "dp['target'] = target\n",
        "dp['text'] = depressive\n",
        "#nondepressive\n",
        "nondp = df.loc[df['target'] != 0]\n",
        "nondp['target'] = 0"
      ]
    },
    {
      "cell_type": "markdown",
      "metadata": {},
      "source": [
        "Assim foi verificado 19621 instancias que podemos classificar como depressivas, com isso:\n",
        "\n",
        "- Colocar instancias de depressão como 1, e não depressivas como 0;\n",
        "- Sortear instancias para treino e validação numa proporção de 10% depressivas(aproximadamente 18000), 90% não depressivas(aproximadamente 180000)\n",
        "\n",
        "\n",
        "Criando Dataset de Depressão"
      ]
    },
    {
      "cell_type": "code",
      "execution_count": 39,
      "metadata": {},
      "outputs": [],
      "source": [
        "#embaralhando e escolhendo aleatoriamente\n",
        "dp = dp.sample(frac=1)\n",
        "nondp = nondp.sample(180000)\n",
        "dout = nondp.append(dp, ignore_index=True)\n",
        "dout = dout.sample(frac=1)\n",
        "dout.to_csv(\"out.csv\")"
      ]
    },
    {
      "cell_type": "markdown",
      "metadata": {},
      "source": [
        "# Making Neural Network"
      ]
    },
    {
      "cell_type": "code",
      "execution_count": 40,
      "metadata": {
        "id": "yV5LduN4DgcP"
      },
      "outputs": [],
      "source": [
        "import pandas as pd\n",
        "from keras import Sequential\n",
        "from keras.callbacks import EarlyStopping\n",
        "from keras.layers import Conv1D, Dense, Dropout, Embedding, MaxPooling1D, LSTM\n",
        "from matplotlib import pyplot as plt\n",
        "from sklearn.model_selection import train_test_split\n",
        "from keras.preprocessing.text import Tokenizer\n",
        "from keras.utils import pad_sequences\n",
        "import tensorflow as tf\n",
        "\n",
        "import numpy as np\n",
        "from gensim.models import KeyedVectors"
      ]
    },
    {
      "cell_type": "markdown",
      "metadata": {},
      "source": [
        "PreProcessing"
      ]
    },
    {
      "cell_type": "code",
      "execution_count": 41,
      "metadata": {
        "colab": {
          "base_uri": "https://localhost:8080/"
        },
        "id": "W7fzrr1nDkz6",
        "outputId": "c12536a8-b4ca-4d4f-fabc-9dc5016c6c02"
      },
      "outputs": [],
      "source": [
        "df = pd.read_csv('out.csv',usecols=['target','text'] ,encoding=\"ISO-8859-1\")\n",
        "X_train, X_test, y_train, y_test = train_test_split(\n",
        "     df[\"text\"], df[\"target\"], test_size=0.2, random_state=42)\n",
        "word2vec = KeyedVectors.load_word2vec_format(\"GoogleNews-vectors-negative300.bin.gz\", binary=True)"
      ]
    },
    {
      "cell_type": "code",
      "execution_count": 42,
      "metadata": {
        "id": "Ro3ZvW2ANZZu"
      },
      "outputs": [],
      "source": [
        "tokenizer = Tokenizer(num_words=25000)\n",
        "tokenizer.fit_on_texts(X_train)\n",
        "sequences_train = tokenizer.texts_to_sequences(X_train)\n",
        "sequences_test = tokenizer.texts_to_sequences(X_test)"
      ]
    },
    {
      "cell_type": "code",
      "execution_count": 43,
      "metadata": {
        "id": "76XDLqdSDnri"
      },
      "outputs": [],
      "source": [
        "word_index = tokenizer.word_index\n",
        "data_train = pad_sequences(sequences_train, maxlen=280)\n",
        "data_test = pad_sequences(sequences_test, maxlen=280)"
      ]
    },
    {
      "cell_type": "code",
      "execution_count": 44,
      "metadata": {
        "id": "42z2CP6rDrPF"
      },
      "outputs": [],
      "source": [
        "nb_words = min(25000, len(word_index))\n",
        "embedding_matrix = np.zeros((nb_words, 300))\n",
        "for (word, idx) in word_index.items():\n",
        "    if word in word2vec.key_to_index and idx < 25000:\n",
        "        embedding_matrix[idx] = word2vec.word_vec(word)"
      ]
    },
    {
      "cell_type": "markdown",
      "metadata": {},
      "source": [
        "Verifying GPU Device for faster Training (In this case to use tensorflow_gpu)"
      ]
    },
    {
      "cell_type": "code",
      "execution_count": 45,
      "metadata": {},
      "outputs": [
        {
          "data": {
            "text/plain": [
              "[PhysicalDevice(name='/physical_device:GPU:0', device_type='GPU')]"
            ]
          },
          "execution_count": 45,
          "metadata": {},
          "output_type": "execute_result"
        }
      ],
      "source": [
        "tf.config.list_physical_devices('GPU')"
      ]
    },
    {
      "cell_type": "markdown",
      "metadata": {},
      "source": [
        "Training"
      ]
    },
    {
      "cell_type": "code",
      "execution_count": 46,
      "metadata": {
        "id": "Zm4bQkNQDvV7"
      },
      "outputs": [
        {
          "name": "stdout",
          "output_type": "stream",
          "text": [
            "Epoch 1/5\n",
            "9285/9285 [==============================] - 137s 15ms/step - loss: 0.0363 - acc: 0.9885 - val_loss: 0.0170 - val_acc: 0.9943\n",
            "Epoch 2/5\n",
            "9285/9285 [==============================] - 144s 15ms/step - loss: 0.0180 - acc: 0.9939 - val_loss: 0.0149 - val_acc: 0.9948\n",
            "Epoch 3/5\n",
            "9285/9285 [==============================] - 137s 15ms/step - loss: 0.0148 - acc: 0.9951 - val_loss: 0.0120 - val_acc: 0.9962\n",
            "Epoch 4/5\n",
            "9285/9285 [==============================] - 136s 15ms/step - loss: 0.0130 - acc: 0.9956 - val_loss: 0.0126 - val_acc: 0.9959\n",
            "Epoch 5/5\n",
            "9285/9285 [==============================] - 132s 14ms/step - loss: 0.0121 - acc: 0.9959 - val_loss: 0.0111 - val_acc: 0.9967\n"
          ]
        }
      ],
      "source": [
        "\n",
        "model = Sequential()\n",
        "model.add(Embedding(len(embedding_matrix), 300, weights=[embedding_matrix],\n",
        "                            input_length=280, trainable=False))\n",
        "model.add(Conv1D(filters=32, kernel_size=3, padding='same', activation='relu'))\n",
        "model.add(MaxPooling1D(pool_size=2, padding='same'))\n",
        "model.add(Dropout(0.5))\n",
        "model.add(LSTM(300))\n",
        "model.add(Dropout(0.5))\n",
        "model.add(Dense(1, activation='sigmoid'))\n",
        "model.compile(loss='binary_crossentropy', optimizer= 'adam', metrics=['acc'])\n",
        "early_stop = EarlyStopping(monitor='val_loss', patience=3)\n",
        "hist = model.fit(data_train, y_train,\n",
        "                validation_data=(data_test, y_test),\n",
        "                epochs=5, batch_size=16, shuffle=True,\n",
        "                callbacks=[early_stop])"
      ]
    },
    {
      "cell_type": "code",
      "execution_count": 47,
      "metadata": {},
      "outputs": [
        {
          "data": {
            "image/png": "[encoded data removed]",
            "text/plain": [
              "<Figure size 640x480 with 1 Axes>"
            ]
          },
          "metadata": {},
          "output_type": "display_data"
        }
      ],
      "source": [
        "plt.plot(hist.history['loss'])\n",
        "plt.plot(hist.history['val_loss'])\n",
        "plt.title('model loss')\n",
        "plt.ylabel('loss')\n",
        "plt.xlabel('epoch')\n",
        "plt.ylim((0,.2))\n",
        "plt.legend(['train', 'validation'], loc='upper left')\n",
        "plt.show()"
      ]
    },
    {
      "cell_type": "markdown",
      "metadata": {},
      "source": [
        "Testing with Reddit Dataset"
      ]
    },
    {
      "cell_type": "code",
      "execution_count": 48,
      "metadata": {},
      "outputs": [
        {
          "name": "stdout",
          "output_type": "stream",
          "text": [
            "242/242 [==============================] - 2s 6ms/step\n",
            "0.5477253378310544\n",
            "0.5514163756305782\n"
          ]
        }
      ],
      "source": [
        "columns = ['target','text']\n",
        "df = pd.read_csv('depression_dataset_reddit_cleaned.csv',usecols=columns,encoding=\"ISO-8859-1\") #necessitamos apenas do tweet e o message type(negative, positive, neutral\n",
        "df.head()\n",
        "sequences_reddit = tokenizer.texts_to_sequences(df[\"text\"])\n",
        "data_reddit = pad_sequences(sequences_reddit, maxlen=280)\n",
        "ypred = model.predict(data_reddit)\n",
        "ypred = np.round(ypred).astype(\"int\")\n",
        "balanced_acc = balanced_accuracy_score(df[\"target\"], ypred)\n",
        "\n",
        "acc = accuracy_score(df[\"target\"], ypred)\n",
        "print(balanced_acc)\n",
        "print(acc)"
      ]
    }
  ],
  "metadata": {
    "accelerator": "GPU",
    "colab": {
      "collapsed_sections": [],
      "provenance": []
    },
    "gpuClass": "standard",
    "kernelspec": {
      "display_name": "Python 3",
      "language": "python",
      "name": "python3"
    },
    "language_info": {
      "codemirror_mode": {
        "name": "ipython",
        "version": 3
      },
      "file_extension": ".py",
      "mimetype": "text/x-python",
      "name": "python",
      "nbconvert_exporter": "python",
      "pygments_lexer": "ipython3",
      "version": "3.10.1 (tags/v3.10.1:2cd268a, Dec  6 2021, 19:10:37) [MSC v.1929 64 bit (AMD64)]"
    },
    "vscode": {
      "interpreter": {
        "hash": "5fe3e6f0cdaab8afdc61c52912fda83f7c0a71baaea1897dd7498e2df01e69ec"
      }
    }
  },
  "nbformat": 4,
  "nbformat_minor": 0
}
